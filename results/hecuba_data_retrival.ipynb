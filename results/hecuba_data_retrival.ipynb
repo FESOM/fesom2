{
 "cells": [
  {
   "cell_type": "code",
   "execution_count": 25,
   "id": "08f40b28",
   "metadata": {},
   "outputs": [],
   "source": [
    "# exploring using cassandra "
   ]
  },
  {
   "cell_type": "code",
   "execution_count": 27,
   "id": "bada1d4c",
   "metadata": {},
   "outputs": [],
   "source": [
    "from cassandra.cluster import Cluster\n",
    "import numpy as np"
   ]
  },
  {
   "cell_type": "code",
   "execution_count": 28,
   "id": "8ecee104",
   "metadata": {},
   "outputs": [],
   "source": [
    "cluster=Cluster()\n",
    "sess = cluster.connect()"
   ]
  },
  {
   "cell_type": "code",
   "execution_count": 34,
   "id": "c8341d59",
   "metadata": {},
   "outputs": [
    {
     "data": {
      "text/plain": [
       "[Row(time=18900.0, chunk=0, metrics=UUID('54d5a55f-c810-5cc8-96b6-74a8cfa00b76')),\n",
       " Row(time=18900.0, chunk=1, metrics=UUID('89a74e75-acef-50d8-927e-1ab433631dd7')),\n",
       " Row(time=18900.0, chunk=2, metrics=UUID('45e80453-3b98-5827-a983-cced12fbf34b')),\n",
       " Row(time=18900.0, chunk=3, metrics=UUID('2bd2eb89-bea5-5c56-94ec-1657790311be')),\n",
       " Row(time=0.0, chunk=0, metrics=UUID('b9c2a1b6-d8fa-58fe-869c-64817d12d579')),\n",
       " Row(time=0.0, chunk=1, metrics=UUID('c63c7d57-0056-5cfc-ac6e-0693d025ee66')),\n",
       " Row(time=0.0, chunk=2, metrics=UUID('26fcef8a-56b4-55dd-8ffa-be40c2af96a1')),\n",
       " Row(time=0.0, chunk=3, metrics=UUID('801e618d-a758-53fb-8637-effa0f6b02dd')),\n",
       " Row(time=10800.0, chunk=0, metrics=UUID('4bc50d31-fe59-50cb-b85c-a8e9612d2696')),\n",
       " Row(time=10800.0, chunk=1, metrics=UUID('39a40fcb-389e-5079-86f1-6cb477da07dc')),\n",
       " Row(time=10800.0, chunk=2, metrics=UUID('7a5178ba-60e3-5da3-87fd-46081bd80edb')),\n",
       " Row(time=10800.0, chunk=3, metrics=UUID('2902258d-c34a-5dca-a62d-fc90e0ad18fd')),\n",
       " Row(time=2700.0, chunk=0, metrics=UUID('8ea77790-37aa-5ae1-a2e5-9e5087c39278')),\n",
       " Row(time=2700.0, chunk=1, metrics=UUID('057178e3-cfbf-51f5-8f57-e6094da0ac7f')),\n",
       " Row(time=2700.0, chunk=2, metrics=UUID('c26db15f-db51-534b-8bde-bd4de07f42e3')),\n",
       " Row(time=2700.0, chunk=3, metrics=UUID('531d5ab9-4bf7-5106-b4c9-9b5598778af8')),\n",
       " Row(time=21600.0, chunk=0, metrics=UUID('bec55dc4-10ff-5b03-b119-729b446eb924')),\n",
       " Row(time=21600.0, chunk=1, metrics=UUID('a2a39160-0204-5de2-9892-be25aa698b9a')),\n",
       " Row(time=21600.0, chunk=2, metrics=UUID('ba083f24-c504-5626-83e8-c054dc832ef9')),\n",
       " Row(time=21600.0, chunk=3, metrics=UUID('7bab9e31-a39d-5613-86df-eb0b45b829e0')),\n",
       " Row(time=16200.0, chunk=0, metrics=UUID('6bfa1292-1454-5595-978f-b4221ffed3cb')),\n",
       " Row(time=16200.0, chunk=1, metrics=UUID('a05f216d-993b-5655-b1ab-9e133251fafc')),\n",
       " Row(time=16200.0, chunk=2, metrics=UUID('f1502f5d-6a2d-56fc-9baa-4dd15c394a42')),\n",
       " Row(time=16200.0, chunk=3, metrics=UUID('3bc40fa8-f98e-5028-8257-90f2d56b4df1')),\n",
       " Row(time=5400.0, chunk=0, metrics=UUID('58138614-d799-51ff-944f-0857bb21efaf')),\n",
       " Row(time=5400.0, chunk=1, metrics=UUID('ec021e4c-f2a8-5035-aaaf-60615ff50a36')),\n",
       " Row(time=5400.0, chunk=2, metrics=UUID('f4bfd1c6-f83a-5e16-8f55-51eecc0a3754')),\n",
       " Row(time=5400.0, chunk=3, metrics=UUID('1f2ee47e-2889-5ce7-a954-ed69675e3977')),\n",
       " Row(time=13500.0, chunk=0, metrics=UUID('52f45720-e649-5563-a645-f19975b8afd2')),\n",
       " Row(time=13500.0, chunk=1, metrics=UUID('e48cbb73-8bb3-5c48-9b95-b66cebb351b9')),\n",
       " Row(time=13500.0, chunk=2, metrics=UUID('4df412cf-f3f3-5753-a30c-27556a430d99')),\n",
       " Row(time=13500.0, chunk=3, metrics=UUID('2d69bf17-0293-5d38-a225-cf2ef08ec147')),\n",
       " Row(time=8100.0, chunk=0, metrics=UUID('7a243e75-a0c7-5cc3-8025-e4f70de544c8')),\n",
       " Row(time=8100.0, chunk=1, metrics=UUID('15cd8f9e-d98c-5a33-b231-ec75f8016e6f')),\n",
       " Row(time=8100.0, chunk=2, metrics=UUID('ae68e2dc-f80e-5fe9-992e-2862d4132576')),\n",
       " Row(time=8100.0, chunk=3, metrics=UUID('1d3e5a9a-b7bd-5133-a64a-ea5a8ab202df'))]"
      ]
     },
     "execution_count": 34,
     "metadata": {},
     "output_type": "execute_result"
    }
   ],
   "source": [
    "list(sess.execute(\"select * from my_app.sst\"))"
   ]
  },
  {
   "cell_type": "code",
   "execution_count": 4,
   "id": "e1de8af8",
   "metadata": {},
   "outputs": [],
   "source": [
    "res=sess.execute(\"select * from my_app.temp\")"
   ]
  },
  {
   "cell_type": "code",
   "execution_count": 5,
   "id": "c3b58637",
   "metadata": {},
   "outputs": [],
   "source": [
    "r1=res.one()"
   ]
  },
  {
   "cell_type": "code",
   "execution_count": 6,
   "id": "00593160",
   "metadata": {},
   "outputs": [
    {
     "data": {
      "text/plain": [
       "(0.0, 0)"
      ]
     },
     "execution_count": 6,
     "metadata": {},
     "output_type": "execute_result"
    }
   ],
   "source": [
    "r1.lat, r1.ts"
   ]
  },
  {
   "cell_type": "code",
   "execution_count": 26,
   "id": "66d5352d",
   "metadata": {},
   "outputs": [],
   "source": [
    "# exploring using hecuba"
   ]
  },
  {
   "cell_type": "code",
   "execution_count": 30,
   "id": "2782197d",
   "metadata": {},
   "outputs": [],
   "source": [
    "import model_class"
   ]
  },
  {
   "cell_type": "code",
   "execution_count": 31,
   "id": "54276df3",
   "metadata": {},
   "outputs": [
    {
     "data": {
      "text/plain": [
       "{row(time=0.0, chunk=0): UUID('b9c2a1b6-d8fa-58fe-869c-64817d12d579'), row(time=0.0, chunk=1): UUID('c63c7d57-0056-5cfc-ac6e-0693d025ee66'), row(time=0.0, chunk=2): UUID('26fcef8a-56b4-55dd-8ffa-be40c2af96a1'), row(time=0.0, chunk=3): UUID('801e618d-a758-53fb-8637-effa0f6b02dd'), row(time=10800.0, chunk=0): UUID('4bc50d31-fe59-50cb-b85c-a8e9612d2696'), row(time=10800.0, chunk=1): UUID('39a40fcb-389e-5079-86f1-6cb477da07dc'), row(time=10800.0, chunk=2): UUID('7a5178ba-60e3-5da3-87fd-46081bd80edb'), row(time=10800.0, chunk=3): UUID('2902258d-c34a-5dca-a62d-fc90e0ad18fd'), row(time=2700.0, chunk=0): UUID('8ea77790-37aa-5ae1-a2e5-9e5087c39278'), row(time=2700.0, chunk=1): UUID('057178e3-cfbf-51f5-8f57-e6094da0ac7f'), row(time=2700.0, chunk=2): UUID('c26db15f-db51-534b-8bde-bd4de07f42e3'), row(time=2700.0, chunk=3): UUID('531d5ab9-4bf7-5106-b4c9-9b5598778af8'), row(time=16200.0, chunk=0): UUID('6bfa1292-1454-5595-978f-b4221ffed3cb'), row(time=16200.0, chunk=1): UUID('a05f216d-993b-5655-b1ab-9e133251fafc'), row(time=16200.0, chunk=2): UUID('f1502f5d-6a2d-56fc-9baa-4dd15c394a42'), row(time=16200.0, chunk=3): UUID('3bc40fa8-f98e-5028-8257-90f2d56b4df1'), row(time=5400.0, chunk=0): UUID('58138614-d799-51ff-944f-0857bb21efaf'), row(time=5400.0, chunk=1): UUID('ec021e4c-f2a8-5035-aaaf-60615ff50a36'), row(time=5400.0, chunk=2): UUID('f4bfd1c6-f83a-5e16-8f55-51eecc0a3754'), row(time=5400.0, chunk=3): UUID('1f2ee47e-2889-5ce7-a954-ed69675e3977'), row(time=13500.0, chunk=0): UUID('52f45720-e649-5563-a645-f19975b8afd2'), row(time=13500.0, chunk=1): UUID('e48cbb73-8bb3-5c48-9b95-b66cebb351b9'), row(time=13500.0, chunk=2): UUID('4df412cf-f3f3-5753-a30c-27556a430d99'), row(time=13500.0, chunk=3): UUID('2d69bf17-0293-5d38-a225-cf2ef08ec147'), row(time=8100.0, chunk=0): UUID('7a243e75-a0c7-5cc3-8025-e4f70de544c8'), row(time=8100.0, chunk=1): UUID('15cd8f9e-d98c-5a33-b231-ec75f8016e6f'), row(time=8100.0, chunk=2): UUID('ae68e2dc-f80e-5fe9-992e-2862d4132576'), row(time=8100.0, chunk=3): UUID('1d3e5a9a-b7bd-5133-a64a-ea5a8ab202df')}"
      ]
     },
     "execution_count": 31,
     "metadata": {},
     "output_type": "execute_result"
    }
   ],
   "source": [
    "model_class.midict.get_by_alias('sst')"
   ]
  },
  {
   "cell_type": "code",
   "execution_count": 32,
   "id": "5074b2b1",
   "metadata": {},
   "outputs": [
    {
     "data": {
      "text/plain": [
       "StorageNumpy([[28.39218682, 28.93928175, 10.05366143, ..., 15.54738236,\n",
       "               13.26530618, 13.82598452]])"
      ]
     },
     "execution_count": 32,
     "metadata": {},
     "output_type": "execute_result"
    }
   ],
   "source": [
    "model_class.midict.get_by_alias('sst')[(8100.0,0)]"
   ]
  },
  {
   "cell_type": "code",
   "execution_count": 31,
   "id": "979d7ae3",
   "metadata": {},
   "outputs": [
    {
     "data": {
      "text/plain": [
       "array([[0., 0., 0., ..., 0., 0., 0.]])"
      ]
     },
     "execution_count": 31,
     "metadata": {},
     "output_type": "execute_result"
    }
   ],
   "source": [
    "np.array(model_class.midict.get_by_alias('sst')[(8100.0,0)]) #why"
   ]
  },
  {
   "cell_type": "code",
   "execution_count": 32,
   "id": "a9b08ef2",
   "metadata": {},
   "outputs": [
    {
     "data": {
      "text/plain": [
       "array([28.39218682, 28.93928175, 10.05366143, ..., 15.54738236,\n",
       "       13.26530618, 13.82598452])"
      ]
     },
     "execution_count": 32,
     "metadata": {},
     "output_type": "execute_result"
    }
   ],
   "source": [
    "np.array(model_class.midict.get_by_alias('sst')[(8100.0,0)][0])"
   ]
  },
  {
   "cell_type": "code",
   "execution_count": 33,
   "id": "40242660",
   "metadata": {},
   "outputs": [
    {
     "data": {
      "text/plain": [
       "126858"
      ]
     },
     "execution_count": 33,
     "metadata": {},
     "output_type": "execute_result"
    }
   ],
   "source": [
    "len(np.array(model_class.midict.get_by_alias('sst')[(8100.0,0)][0]))+len(np.array(model_class.midict.get_by_alias('sst')[(8100.0,1)][0]))+len(np.array(model_class.midict.get_by_alias('sst')[(8100.0,2)][0]))+len(np.array(model_class.midict.get_by_alias('sst')[(8100.0,3)][0]))"
   ]
  },
  {
   "cell_type": "code",
   "execution_count": 17,
   "id": "3de60744",
   "metadata": {},
   "outputs": [
    {
     "data": {
      "text/plain": [
       "[Row(lat=0.0, ts=0, metrics=UUID('3af0409f-9d25-57ea-ba12-ffac4cfd31c8')),\n",
       " Row(lat=0.0, ts=1, metrics=UUID('8b95dbdc-96c9-5871-b701-0d0ca352736b')),\n",
       " Row(lat=0.0, ts=2, metrics=UUID('c40c1fc6-460d-521c-b6ad-d47a2ac54d3f')),\n",
       " Row(lat=0.0, ts=3, metrics=UUID('0565ce7c-5250-5646-8f94-850f778aae4c')),\n",
       " Row(lat=2700.0, ts=0, metrics=UUID('6f26498d-e0c5-508f-b76d-534664aaf9cf')),\n",
       " Row(lat=2700.0, ts=1, metrics=UUID('c86917a7-4e0a-5dd8-87a4-cb80fc766624')),\n",
       " Row(lat=2700.0, ts=2, metrics=UUID('7aa49c0a-19d6-5c6d-90c2-aa7231b7b263')),\n",
       " Row(lat=2700.0, ts=3, metrics=UUID('d167992d-7bbe-58b3-bd6f-3988edbae2d1'))]"
      ]
     },
     "execution_count": 17,
     "metadata": {},
     "output_type": "execute_result"
    }
   ],
   "source": [
    "list(sess.execute(\"select * from my_app.temp\"))"
   ]
  },
  {
   "cell_type": "code",
   "execution_count": 18,
   "id": "49e48f67",
   "metadata": {},
   "outputs": [
    {
     "data": {
      "text/plain": [
       "126858"
      ]
     },
     "execution_count": 18,
     "metadata": {},
     "output_type": "execute_result"
    },
    {
     "name": "stderr",
     "output_type": "stream",
     "text": [
      "1669247131.797 [WARN] (cluster.cpp:763:virtual void datastax::internal::core::Cluster::on_close(datastax::internal::core::ControlConnection*)): Lost control connection to host 127.0.0.1\n",
      "1669247133.797 [ERROR] (socket.cpp:364:void datastax::internal::core::Socket::handle_read(ssize_t, const uv_buf_t*)): Socket read error 'connection reset by peer'\n",
      "1669247133.797 [WARN] (connection_pool.cpp:276:void datastax::internal::core::ConnectionPool::on_reconnect(datastax::internal::core::DelayedConnector*)): Connection pool was unable to reconnect to host 127.0.0.1 because of the following error: Connection closed prematurely\n",
      "1669247133.876 [ERROR] (socket.cpp:364:void datastax::internal::core::Socket::handle_read(ssize_t, const uv_buf_t*)): Socket read error 'connection reset by peer'\n",
      "1669247133.876 [WARN] (connection_pool.cpp:276:void datastax::internal::core::ConnectionPool::on_reconnect(datastax::internal::core::DelayedConnector*)): Connection pool was unable to reconnect to host 127.0.0.1 because of the following error: Connection closed prematurely\n",
      "1669247137.559 [ERROR] (socket.cpp:364:void datastax::internal::core::Socket::handle_read(ssize_t, const uv_buf_t*)): Socket read error 'connection reset by peer'\n",
      "1669247137.559 [WARN] (connection_pool.cpp:276:void datastax::internal::core::ConnectionPool::on_reconnect(datastax::internal::core::DelayedConnector*)): Connection pool was unable to reconnect to host 127.0.0.1 because of the following error: Connection closed prematurely\n",
      "1669247138.240 [ERROR] (socket.cpp:364:void datastax::internal::core::Socket::handle_read(ssize_t, const uv_buf_t*)): Socket read error 'connection reset by peer'\n",
      "1669247138.241 [WARN] (connection_pool.cpp:276:void datastax::internal::core::ConnectionPool::on_reconnect(datastax::internal::core::DelayedConnector*)): Connection pool was unable to reconnect to host 127.0.0.1 because of the following error: Connection closed prematurely\n",
      "1669247144.525 [ERROR] (socket.cpp:364:void datastax::internal::core::Socket::handle_read(ssize_t, const uv_buf_t*)): Socket read error 'connection reset by peer'\n",
      "1669247144.525 [WARN] (connection_pool.cpp:276:void datastax::internal::core::ConnectionPool::on_reconnect(datastax::internal::core::DelayedConnector*)): Connection pool was unable to reconnect to host 127.0.0.1 because of the following error: Connection closed prematurely\n",
      "1669247146.007 [ERROR] (socket.cpp:364:void datastax::internal::core::Socket::handle_read(ssize_t, const uv_buf_t*)): Socket read error 'connection reset by peer'\n",
      "1669247146.007 [WARN] (connection_pool.cpp:276:void datastax::internal::core::ConnectionPool::on_reconnect(datastax::internal::core::DelayedConnector*)): Connection pool was unable to reconnect to host 127.0.0.1 because of the following error: Connection closed prematurely\n",
      "1669247158.295 [WARN] (connection_pool.cpp:276:void datastax::internal::core::ConnectionPool::on_reconnect(datastax::internal::core::DelayedConnector*)): Connection pool was unable to reconnect to host 127.0.0.1 because of the following error: Connect error 'connection refused'\n",
      "1669247162.823 [WARN] (connection_pool.cpp:276:void datastax::internal::core::ConnectionPool::on_reconnect(datastax::internal::core::DelayedConnector*)): Connection pool was unable to reconnect to host 127.0.0.1 because of the following error: Connect error 'connection refused'\n",
      "1669247190.677 [WARN] (connection_pool.cpp:276:void datastax::internal::core::ConnectionPool::on_reconnect(datastax::internal::core::DelayedConnector*)): Connection pool was unable to reconnect to host 127.0.0.1 because of the following error: Connect error 'connection refused'\n",
      "1669247191.579 [WARN] (connection_pool.cpp:276:void datastax::internal::core::ConnectionPool::on_reconnect(datastax::internal::core::DelayedConnector*)): Connection pool was unable to reconnect to host 127.0.0.1 because of the following error: Connect error 'connection refused'\n",
      "1669247253.461 [ERROR] (socket.cpp:364:void datastax::internal::core::Socket::handle_read(ssize_t, const uv_buf_t*)): Socket read error 'connection reset by peer'\n",
      "1669247253.461 [WARN] (connection_pool.cpp:276:void datastax::internal::core::ConnectionPool::on_reconnect(datastax::internal::core::DelayedConnector*)): Connection pool was unable to reconnect to host 127.0.0.1 because of the following error: Connection closed prematurely\n",
      "1669247254.328 [ERROR] (socket.cpp:364:void datastax::internal::core::Socket::handle_read(ssize_t, const uv_buf_t*)): Socket read error 'connection reset by peer'\n",
      "1669247254.328 [WARN] (connection_pool.cpp:276:void datastax::internal::core::ConnectionPool::on_reconnect(datastax::internal::core::DelayedConnector*)): Connection pool was unable to reconnect to host 127.0.0.1 because of the following error: Connection closed prematurely\n",
      "1669247367.536 [WARN] (prepare_host_handler.cpp:176:virtual void datastax::internal::core::PrepareHostHandler::PrepareCallback::on_internal_timeout()): Prepare request timed out on host 127.0.0.1 while attempting to prepare all queries\n",
      "1669247658.780 [WARN] (host.cpp:151:void datastax::internal::core::Host::set(const datastax::internal::core::Row*, bool)): Found host with 'bind any' for rpc_address; using listen_address (127.0.0.1) to contact instead. If this is incorrect you should configure a specific interface for rpc_address on the server.\n"
     ]
    }
   ],
   "source": [
    "len(np.array(model_class.midict.get_by_alias('temp')[(0.0,0)][0]))+len(np.array(model_class.midict.get_by_alias('temp')[(0.0,1)][0]))+len(np.array(model_class.midict.get_by_alias('temp')[(0.0,2)][0]))+len(np.array(model_class.midict.get_by_alias('temp')[(0.0,3)][0]))"
   ]
  },
  {
   "cell_type": "code",
   "execution_count": null,
   "id": "f3a9d72d",
   "metadata": {},
   "outputs": [],
   "source": []
  }
 ],
 "metadata": {
  "kernelspec": {
   "display_name": "Python 3 (ipykernel)",
   "language": "python",
   "name": "python3"
  },
  "language_info": {
   "codemirror_mode": {
    "name": "ipython",
    "version": 3
   },
   "file_extension": ".py",
   "mimetype": "text/x-python",
   "name": "python",
   "nbconvert_exporter": "python",
   "pygments_lexer": "ipython3",
   "version": "3.8.13"
  }
 },
 "nbformat": 4,
 "nbformat_minor": 5
}
