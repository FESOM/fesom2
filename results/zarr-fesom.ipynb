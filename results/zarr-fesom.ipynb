{
 "cells": [
  {
   "cell_type": "code",
   "execution_count": 1,
   "id": "9622c6aa",
   "metadata": {},
   "outputs": [],
   "source": [
    "import dask.array as da\n",
    "from zarr.storage import DirectoryStore\n",
    "import zarr \n",
    "import numpy as np\n",
    "import xarray as xr"
   ]
  },
  {
   "cell_type": "code",
   "execution_count": 12,
   "id": "f6a2595a",
   "metadata": {},
   "outputs": [],
   "source": [
    "def dataset_from_fesom_zarr(dataset_path):\n",
    "    store = DirectoryStore(dataset_path)\n",
    "    root = zarr.open_group(store)\n",
    "    variables=list(root.group_keys())\n",
    "    variable_group = root[variables[0]]\n",
    "    darr_conc=da.concatenate([da.from_zarr(variable_group[k], \n",
    "                                           chunks=variable_group[k].chunks) for k in variable_group.array_keys()])\n",
    "    return xr.Dataset({variables[0]:(('nod2d','time'),darr_conc)},coords={})"
   ]
  },
  {
   "cell_type": "code",
   "execution_count": 13,
   "id": "01c09e77",
   "metadata": {},
   "outputs": [
    {
     "data": {
      "text/html": [
       "<pre>&lt;xarray.Dataset&gt;\n",
       "Dimensions:  (nod2d: 3140, time: 32)\n",
       "Dimensions without coordinates: nod2d, time\n",
       "Data variables:\n",
       "    sst      (nod2d, time) float64 dask.array&lt;chunksize=(785, 1), meta=np.ndarray&gt;</pre>"
      ],
      "text/plain": [
       "<xarray.Dataset>\n",
       "Dimensions:  (nod2d: 3140, time: 32)\n",
       "Dimensions without coordinates: nod2d, time\n",
       "Data variables:\n",
       "    sst      (nod2d, time) float64 dask.array<chunksize=(785, 1), meta=np.ndarray>"
      ]
     },
     "execution_count": 13,
     "metadata": {},
     "output_type": "execute_result"
    }
   ],
   "source": [
    "fesom_da=dataset_from_fesom_zarr('test2.zarr')\n",
    "fesom_da"
   ]
  },
  {
   "cell_type": "code",
   "execution_count": 11,
   "id": "2c6fce3e",
   "metadata": {},
   "outputs": [],
   "source": [
    "fesom_da.to_netcdf('test2.nc')"
   ]
  },
  {
   "cell_type": "code",
   "execution_count": 9,
   "id": "a25ef745",
   "metadata": {},
   "outputs": [
    {
     "data": {
      "text/plain": [
       "array([[-1.72099914, -1.720873  , -1.72075092, ..., -1.71767671,\n",
       "        -1.71754257, -1.71741189],\n",
       "       [-1.70778306, -1.70766393, -1.70754664, ..., -1.70447055,\n",
       "        -1.70434837, -1.70422987],\n",
       "       [-1.70446364, -1.70434422, -1.70422708, ..., -1.70131187,\n",
       "        -1.70120102, -1.70109089],\n",
       "       ...,\n",
       "       [-1.8316158 , -1.83171327, -1.83180613, ..., -1.83245149,\n",
       "        -1.83238513, -1.83230014],\n",
       "       [-1.83966668, -1.8397141 , -1.83975896, ..., -1.84079326,\n",
       "        -1.8408106 , -1.84082478],\n",
       "       [-1.83594857, -1.83595916, -1.83596826, ..., -1.83541977,\n",
       "        -1.83531626, -1.8351984 ]])"
      ]
     },
     "execution_count": 9,
     "metadata": {},
     "output_type": "execute_result"
    }
   ],
   "source": [
    "fesom_da.sst.values"
   ]
  },
  {
   "cell_type": "code",
   "execution_count": 10,
   "id": "44f71459",
   "metadata": {},
   "outputs": [
    {
     "data": {
      "text/plain": [
       "(-1.8662021036309473, 29.873298084245743)"
      ]
     },
     "execution_count": 10,
     "metadata": {},
     "output_type": "execute_result"
    }
   ],
   "source": [
    "fesom_da.sst.values.min(),fesom_da.sst.values.max()"
   ]
  },
  {
   "cell_type": "code",
   "execution_count": null,
   "id": "5584d200",
   "metadata": {},
   "outputs": [],
   "source": [
    "# still need to add coordinate information"
   ]
  }
 ],
 "metadata": {
  "kernelspec": {
   "display_name": "Python 3 (ipykernel)",
   "language": "python",
   "name": "python3"
  },
  "language_info": {
   "codemirror_mode": {
    "name": "ipython",
    "version": 3
   },
   "file_extension": ".py",
   "mimetype": "text/x-python",
   "name": "python",
   "nbconvert_exporter": "python",
   "pygments_lexer": "ipython3",
   "version": "3.7.11"
  }
 },
 "nbformat": 4,
 "nbformat_minor": 5
}
