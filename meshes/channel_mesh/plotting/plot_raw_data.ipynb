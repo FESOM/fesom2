{
 "cells": [
  {
   "cell_type": "code",
   "execution_count": null,
   "id": "d433ba19-1bdf-470f-aca8-172dfdcbd8ca",
   "metadata": {
    "tags": []
   },
   "outputs": [],
   "source": [
    "# Import libraries\n",
    "\n",
    "import numpy as np\n",
    "import xarray as xr\n",
    "import matplotlib.pyplot as plt\n",
    "import datetime\n",
    "import cmocean\n",
    "import sys\n",
    "import pyfesom2 as pf"
   ]
  },
  {
   "cell_type": "code",
   "execution_count": null,
   "id": "b87cb004-a208-467c-af04-46bb5a2645d7",
   "metadata": {
    "tags": []
   },
   "outputs": [],
   "source": [
    "# Load the mesh\n",
    "\n",
    "alpha, beta, gamma=[0, 0, 0]\n",
    "print(\"mesh will be loaded\")\n",
    "# Insert your custom path\n",
    "meshpath = '...'\n",
    "mesh = pf.load_mesh(meshpath, abg=[alpha, beta, gamma], usepickle = False)\n",
    "resultpath = f'{meshpath}results/'\n",
    "meshdiag = xr.open_mfdataset(f'{resultpath}/fesom.mesh.diag.nc')"
   ]
  },
  {
   "cell_type": "code",
   "execution_count": null,
   "id": "7f67f515-982d-4588-937c-1aa7718920fc",
   "metadata": {
    "tags": []
   },
   "outputs": [],
   "source": [
    "# Set up X and Y for elements\n",
    "\n",
    "elem_n = meshdiag.elements.shape[1]\n",
    "\n",
    "xx2=np.zeros(shape=(elem_n)) \n",
    "yy2=np.zeros(shape=(elem_n))\n",
    "\n",
    "for i in np.arange(0,elem_n):\n",
    "    xx2[i]=mesh.x2[mesh.elem[i,:]].mean(axis=0)\n",
    "    yy2[i]=mesh.y2[mesh.elem[i,:]].mean(axis=0)"
   ]
  },
  {
   "cell_type": "code",
   "execution_count": null,
   "id": "219f03a4-da34-4d36-8adb-3b6aab94b9b4",
   "metadata": {
    "tags": []
   },
   "outputs": [],
   "source": [
    "# Data selection\n",
    "str_id = 'temp'\n",
    "year = 1965\n",
    "level = 0\n",
    "time = -1\n",
    "dat = xr.open_dataset(f'{resultpath}/{str_id}.fesom.{year}.nc')[str_id]\n",
    "dat = dat.isel(time=time, nz1=level) # may need to change nz1 to nz, depending on quantity you plot\n",
    "dat = dat.squeeze()"
   ]
  },
  {
   "cell_type": "code",
   "execution_count": null,
   "id": "b5f7f9bf-b2ef-4bcd-91f4-bc3ec3aa0495",
   "metadata": {
    "tags": []
   },
   "outputs": [],
   "source": [
    "# Choose correct X and Y for quantities on nodes or elements\n",
    "if 'nod2' in dat.dims:\n",
    "    X = meshdiag.lon\n",
    "    Y = meshdiag.lat\n",
    "elif 'elem' in dat.dims:\n",
    "    X = xx2\n",
    "    Y = yy2\n",
    "else:\n",
    "    print('Error!')"
   ]
  },
  {
   "cell_type": "code",
   "execution_count": null,
   "id": "13abeea8-7b50-4e52-b379-6955a691be20",
   "metadata": {
    "scrolled": true,
    "tags": []
   },
   "outputs": [],
   "source": [
    "vmin, vmax = np.round(dat.min().values), np.round(dat.max().values)\n",
    "cmap = cmocean.cm.thermal\n",
    "\n",
    "cbartext, cont\t= f'{str_id} / {dat.units}', [vmin, vmax, .001]\n",
    "bounds=np.linspace(vmin,vmax,100)\n",
    "fig, ax = plt.subplots(figsize=(5,20))\n",
    "#plt.gca().set_aspect('equal')\n",
    "\n",
    "im = ax.tripcolor(X, Y, dat, shading='flat', cmap=cmap) \n",
    "\n",
    "plt.tick_params(axis='both', labelsize=20)\n",
    "plt.xlabel('deg', size=20)\n",
    "plt.ylabel('deg', size=20)\n",
    "\n",
    "cbar = fig.colorbar(im, orientation='horizontal', pad=.05, extend='both') #  ticks=[v_min, 0, v_max],\n",
    "im.set_clim(vmin, vmax)\n",
    "cbar.set_label(cbartext, size=20)\n",
    "#cbar.set_ticks([round(i,8) for i in np.linspace(cont[0], cont[1], 5)], fontsize=20)\n",
    "#cbar.set_ticklabels([round(i,8) for i in np.linspace(cont[0], cont[1], 5)], fontsize=20)\n",
    "cbar.ax.tick_params(labelsize=20)\n",
    "plt.title(f'{dat.time.values}, (level,nz1)=({level},{dat.nz1.values})')\n",
    "\n",
    "plt.show(block=False)"
   ]
  },
  {
   "cell_type": "code",
   "execution_count": null,
   "id": "4761e0aa-830d-4744-a5d5-433bb4696024",
   "metadata": {},
   "outputs": [],
   "source": []
  }
 ],
 "metadata": {
  "kernelspec": {
   "display_name": "pyfesom2",
   "language": "python",
   "name": "pyfesom2"
  },
  "language_info": {
   "codemirror_mode": {
    "name": "ipython",
    "version": 3
   },
   "file_extension": ".py",
   "mimetype": "text/x-python",
   "name": "python",
   "nbconvert_exporter": "python",
   "pygments_lexer": "ipython3",
   "version": "3.9.16"
  }
 },
 "nbformat": 4,
 "nbformat_minor": 5
}
